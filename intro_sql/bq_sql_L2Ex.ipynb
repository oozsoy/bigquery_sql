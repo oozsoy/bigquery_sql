{
 "cells": [
  {
   "cell_type": "code",
   "execution_count": 2,
   "metadata": {},
   "outputs": [],
   "source": [
    "from google.cloud import bigquery\n",
    "from google.oauth2 import service_account\n",
    "\n",
    "# We will import a customized function called client which actually returns an authorized bigquery client object with right credentials\n",
    "# this will cost us an extra pair of () each time we call the client object which is now called by the function client we define in bq_sa_auth.py \n",
    "\n",
    "from bq_sa_auth import client"
   ]
  },
  {
   "cell_type": "markdown",
   "metadata": {},
   "source": [
    "## *Exercises:*"
   ]
  },
  {
   "cell_type": "markdown",
   "metadata": {},
   "source": [
    "### 1) Units of measurement\n",
    "\n",
    "Which countries have reported pollution levels in units of \"ppm\"?  In the code cell below, set `first_query` to an SQL query that pulls the appropriate entries from the `country` column."
   ]
  },
  {
   "cell_type": "code",
   "execution_count": 3,
   "metadata": {},
   "outputs": [
    {
     "name": "stdout",
     "output_type": "stream",
     "text": [
      "['IL' 'AR' 'CO' 'TW' 'PE' 'EC' 'AU' 'BR' 'CA' 'MX' 'TH' 'US' 'ZA' 'NP'\n",
      " 'GT' 'AE' 'QA' 'CH' 'BM' 'CL' 'BH' 'GB' 'RW' 'UZ' 'CW' 'IN' 'RO' 'MM'] 28\n"
     ]
    }
   ],
   "source": [
    "ppm_query = \"\"\"\n",
    "            SELECT country\n",
    "            FROM `bigquery-public-data.openaq.global_air_quality`\n",
    "            WHERE unit = 'ppm'\n",
    "            \"\"\"\n",
    "\n",
    "ONE_GB = 1000*1000*1000\n",
    "\n",
    "safe_config = bigquery.QueryJobConfig(maximum_bytes_billed = ONE_GB)\n",
    "\n",
    "query_job = client().query(ppm_query, job_config=safe_config)\n",
    "\n",
    "ppm_df = query_job.to_dataframe()\n",
    "\n",
    "ppm_countries = ppm_df.country.unique()\n",
    "\n",
    "print(ppm_countries, len(ppm_countries))"
   ]
  },
  {
   "cell_type": "markdown",
   "metadata": {},
   "source": [
    "### 2) High air quality\n",
    "\n",
    "Which pollution levels were reported to be exactly 0?  \n",
    "- Set `zero_pollution_query` to select **all columns** of the rows where the `value` column is 0.\n",
    "- Set `zero_pollution_results` to a pandas DataFrame containing the query results."
   ]
  },
  {
   "cell_type": "code",
   "execution_count": 3,
   "metadata": {},
   "outputs": [
    {
     "data": {
      "text/html": [
       "<div>\n",
       "<style scoped>\n",
       "    .dataframe tbody tr th:only-of-type {\n",
       "        vertical-align: middle;\n",
       "    }\n",
       "\n",
       "    .dataframe tbody tr th {\n",
       "        vertical-align: top;\n",
       "    }\n",
       "\n",
       "    .dataframe thead th {\n",
       "        text-align: right;\n",
       "    }\n",
       "</style>\n",
       "<table border=\"1\" class=\"dataframe\">\n",
       "  <thead>\n",
       "    <tr style=\"text-align: right;\">\n",
       "      <th></th>\n",
       "      <th>location</th>\n",
       "      <th>city</th>\n",
       "      <th>country</th>\n",
       "      <th>pollutant</th>\n",
       "      <th>value</th>\n",
       "      <th>timestamp</th>\n",
       "      <th>unit</th>\n",
       "      <th>source_name</th>\n",
       "      <th>latitude</th>\n",
       "      <th>longitude</th>\n",
       "      <th>averaged_over_in_hours</th>\n",
       "      <th>location_geom</th>\n",
       "    </tr>\n",
       "  </thead>\n",
       "  <tbody>\n",
       "    <tr>\n",
       "      <th>0</th>\n",
       "      <td>Żary, ul. Szymanowskiego 8</td>\n",
       "      <td>Żary</td>\n",
       "      <td>PL</td>\n",
       "      <td>bc</td>\n",
       "      <td>0.0</td>\n",
       "      <td>2022-05-05 02:00:00+00:00</td>\n",
       "      <td>µg/m³</td>\n",
       "      <td>GIOS</td>\n",
       "      <td>1.0</td>\n",
       "      <td>51.642656</td>\n",
       "      <td>15.127808</td>\n",
       "      <td>POINT(51.642656 1)</td>\n",
       "    </tr>\n",
       "    <tr>\n",
       "      <th>1</th>\n",
       "      <td>Starachowice, ul. Złota</td>\n",
       "      <td>Starachowice</td>\n",
       "      <td>PL</td>\n",
       "      <td>bc</td>\n",
       "      <td>0.0</td>\n",
       "      <td>2022-05-08 11:00:00+00:00</td>\n",
       "      <td>µg/m³</td>\n",
       "      <td>GIOS</td>\n",
       "      <td>1.0</td>\n",
       "      <td>51.050611</td>\n",
       "      <td>21.084175</td>\n",
       "      <td>POINT(51.050611 1)</td>\n",
       "    </tr>\n",
       "    <tr>\n",
       "      <th>2</th>\n",
       "      <td>Kraków, ul. Bulwarowa</td>\n",
       "      <td>Kraków</td>\n",
       "      <td>PL</td>\n",
       "      <td>bc</td>\n",
       "      <td>0.0</td>\n",
       "      <td>2022-05-07 13:00:00+00:00</td>\n",
       "      <td>µg/m³</td>\n",
       "      <td>GIOS</td>\n",
       "      <td>1.0</td>\n",
       "      <td>50.069308</td>\n",
       "      <td>20.053492</td>\n",
       "      <td>POINT(50.069308 1)</td>\n",
       "    </tr>\n",
       "    <tr>\n",
       "      <th>3</th>\n",
       "      <td>Zielonka, Bory Tucholskie</td>\n",
       "      <td>Zielonka</td>\n",
       "      <td>PL</td>\n",
       "      <td>bc</td>\n",
       "      <td>0.0</td>\n",
       "      <td>2022-05-15 11:00:00+00:00</td>\n",
       "      <td>µg/m³</td>\n",
       "      <td>GIOS</td>\n",
       "      <td>1.0</td>\n",
       "      <td>53.662136</td>\n",
       "      <td>17.933986</td>\n",
       "      <td>POINT(53.662136 1)</td>\n",
       "    </tr>\n",
       "    <tr>\n",
       "      <th>4</th>\n",
       "      <td>Żagań, ul. Kochanowskiego</td>\n",
       "      <td>Żagań</td>\n",
       "      <td>PL</td>\n",
       "      <td>bc</td>\n",
       "      <td>0.0</td>\n",
       "      <td>2022-05-02 13:00:00+00:00</td>\n",
       "      <td>µg/m³</td>\n",
       "      <td>GIOS</td>\n",
       "      <td>1.0</td>\n",
       "      <td>51.615447</td>\n",
       "      <td>15.301667</td>\n",
       "      <td>POINT(51.615447 1)</td>\n",
       "    </tr>\n",
       "  </tbody>\n",
       "</table>\n",
       "</div>"
      ],
      "text/plain": [
       "                     location          city country pollutant  value  \\\n",
       "0  Żary, ul. Szymanowskiego 8          Żary      PL        bc    0.0   \n",
       "1     Starachowice, ul. Złota  Starachowice      PL        bc    0.0   \n",
       "2       Kraków, ul. Bulwarowa        Kraków      PL        bc    0.0   \n",
       "3   Zielonka, Bory Tucholskie      Zielonka      PL        bc    0.0   \n",
       "4   Żagań, ul. Kochanowskiego         Żagań      PL        bc    0.0   \n",
       "\n",
       "                  timestamp   unit source_name  latitude  longitude  \\\n",
       "0 2022-05-05 02:00:00+00:00  µg/m³        GIOS       1.0  51.642656   \n",
       "1 2022-05-08 11:00:00+00:00  µg/m³        GIOS       1.0  51.050611   \n",
       "2 2022-05-07 13:00:00+00:00  µg/m³        GIOS       1.0  50.069308   \n",
       "3 2022-05-15 11:00:00+00:00  µg/m³        GIOS       1.0  53.662136   \n",
       "4 2022-05-02 13:00:00+00:00  µg/m³        GIOS       1.0  51.615447   \n",
       "\n",
       "   averaged_over_in_hours       location_geom  \n",
       "0               15.127808  POINT(51.642656 1)  \n",
       "1               21.084175  POINT(51.050611 1)  \n",
       "2               20.053492  POINT(50.069308 1)  \n",
       "3               17.933986  POINT(53.662136 1)  \n",
       "4               15.301667  POINT(51.615447 1)  "
      ]
     },
     "execution_count": 3,
     "metadata": {},
     "output_type": "execute_result"
    }
   ],
   "source": [
    "zero_pol_query = \"\"\"\n",
    "            SELECT *\n",
    "            FROM `bigquery-public-data.openaq.global_air_quality`\n",
    "            WHERE value = 0\n",
    "            \"\"\"\n",
    "\n",
    "ONE_GB = 1000*1000*1000\n",
    "\n",
    "safe_config = bigquery.QueryJobConfig(maximum_bytes_billed = ONE_GB)\n",
    "\n",
    "query_job = client().query(zero_pol_query, job_config=safe_config)\n",
    "\n",
    "zero_pol_df = query_job.to_dataframe()\n",
    "\n",
    "zero_pol_df.head()"
   ]
  },
  {
   "cell_type": "code",
   "execution_count": null,
   "metadata": {},
   "outputs": [],
   "source": []
  }
 ],
 "metadata": {
  "kernelspec": {
   "display_name": "base",
   "language": "python",
   "name": "python3"
  },
  "language_info": {
   "codemirror_mode": {
    "name": "ipython",
    "version": 3
   },
   "file_extension": ".py",
   "mimetype": "text/x-python",
   "name": "python",
   "nbconvert_exporter": "python",
   "pygments_lexer": "ipython3",
   "version": "3.10.13"
  }
 },
 "nbformat": 4,
 "nbformat_minor": 2
}
